{
  "nbformat": 4,
  "nbformat_minor": 0,
  "metadata": {
    "colab": {
      "provenance": [],
      "gpuType": "T4",
      "authorship_tag": "ABX9TyN7Ult5iCD3hxJpXT3cYCFE",
      "include_colab_link": true
    },
    "kernelspec": {
      "name": "python3",
      "display_name": "Python 3"
    },
    "language_info": {
      "name": "python"
    },
    "accelerator": "GPU"
  },
  "cells": [
    {
      "cell_type": "markdown",
      "metadata": {
        "id": "view-in-github",
        "colab_type": "text"
      },
      "source": [
        "<a href=\"https://colab.research.google.com/github/HARSHGit45/Machine_Learning_assignment/blob/main/Brain_Tumor_Classification.ipynb\" target=\"_parent\"><img src=\"https://colab.research.google.com/assets/colab-badge.svg\" alt=\"Open In Colab\"/></a>"
      ]
    },
    {
      "cell_type": "code",
      "execution_count": 1,
      "metadata": {
        "colab": {
          "base_uri": "https://localhost:8080/"
        },
        "id": "PHoYdFVUBIez",
        "outputId": "48308c26-cde7-4d97-a815-771b5a62a98e"
      },
      "outputs": [
        {
          "output_type": "stream",
          "name": "stdout",
          "text": [
            "The data set has been extracted.\n"
          ]
        }
      ],
      "source": [
        "from zipfile import ZipFile\n",
        "\n",
        "data_path = '/content/Brain-Tumor-Classification-DataSet-master.zip'\n",
        "\n",
        "with ZipFile(data_path, 'r') as zip:\n",
        "    zip.extractall()\n",
        "    print('The data set has been extracted.')"
      ]
    },
    {
      "cell_type": "code",
      "source": [
        "import os\n",
        "import tensorflow as tf\n",
        "from keras.layers import Conv2D, MaxPool2D, Flatten, Dense, Dropout\n",
        "from keras.models import Sequential\n",
        "from tensorflow.keras.preprocessing.image import ImageDataGenerator\n",
        "import cv2\n",
        "import matplotlib.pyplot as plt\n",
        "import numpy as np"
      ],
      "metadata": {
        "id": "ejSr24srByBz"
      },
      "execution_count": 5,
      "outputs": []
    },
    {
      "cell_type": "code",
      "source": [
        "xtrain=[]\n",
        "ytrain=[]\n",
        "xtest=[]\n",
        "ytest=[]\n",
        "\n",
        "\n",
        "img_size = 150\n",
        "\n",
        "\n",
        "labels= ['glioma_tumor','meningioma_tumor','no_tumor','pituitary_tumor']\n",
        "for i in labels:\n",
        "  folderpth = os.path.join('/content/Brain-Tumor-Classification-DataSet-master/Training',i)\n",
        "  for j in os.listdir(folderpth):\n",
        "    img = cv2.imread(os.path.join(folderpth,j))\n",
        "    img = cv2.resize(img,(img_size,img_size))\n",
        "    xtrain.append(img)\n",
        "    ytrain.append(i)\n",
        "\n",
        "for i in labels:\n",
        "  folderpth = os.path.join('/content/Brain-Tumor-Classification-DataSet-master/Testing',i)\n",
        "  for j in os.listdir(folderpth):\n",
        "    img = cv2.imread(os.path.join(folderpth,j))\n",
        "    img = cv2.resize(img,(img_size,img_size))\n",
        "    xtest.append(img)\n",
        "    ytest.append(i)\n"
      ],
      "metadata": {
        "id": "cfGDYoZNBx_c"
      },
      "execution_count": 6,
      "outputs": []
    },
    {
      "cell_type": "code",
      "source": [
        "xtrain = np.array(xtrain)\n",
        "ytrain = np.array(ytrain)\n",
        "xtest = np.array(xtest)\n",
        "ytest = np.array(ytest)"
      ],
      "metadata": {
        "id": "uY-ZYAzLBx87"
      },
      "execution_count": 8,
      "outputs": []
    },
    {
      "cell_type": "code",
      "source": [
        "xtrain.shape"
      ],
      "metadata": {
        "colab": {
          "base_uri": "https://localhost:8080/"
        },
        "id": "0mZZl-JQBx6T",
        "outputId": "31147b49-c15b-41ae-a7e1-a37d2db6ae89"
      },
      "execution_count": 10,
      "outputs": [
        {
          "output_type": "execute_result",
          "data": {
            "text/plain": [
              "(2870, 150, 150, 3)"
            ]
          },
          "metadata": {},
          "execution_count": 10
        }
      ]
    },
    {
      "cell_type": "code",
      "source": [
        "ytrn=[]\n",
        "ytst=[]\n",
        "for i in ytrain:\n",
        "  ytrn.append(labels.index(i))\n",
        "ytrain=ytrn\n",
        "ytrain = tf.keras.utils.to_categorical(ytrain)\n",
        "\n",
        "for i in ytest:\n",
        "  ytst.append(labels.index(i))\n",
        "ytest=ytst\n",
        "ytest = tf.keras.utils.to_categorical(ytest)\n",
        "\n",
        ""
      ],
      "metadata": {
        "id": "wPTqhXnBBx30"
      },
      "execution_count": 11,
      "outputs": []
    },
    {
      "cell_type": "code",
      "source": [
        "model = Sequential()"
      ],
      "metadata": {
        "id": "UxX7syiRGHs3"
      },
      "execution_count": 12,
      "outputs": []
    },
    {
      "cell_type": "code",
      "source": [
        "model.add(Conv2D(32,(3,3),activation='relu',input_shape=(150,150,3)))\n",
        "model.add(Conv2D(64,(3,3),activation='relu'))\n",
        "model.add(MaxPool2D(2,2))\n",
        "model.add(Dropout(0.3))\n",
        "\n",
        "\n",
        "model.add(Conv2D(64,(3,3),activation='relu'))\n",
        "model.add(Conv2D(64,(3,3),activation='relu'))\n",
        "model.add(MaxPool2D(2,2))\n",
        "model.add(Dropout(0.3))\n",
        "\n",
        "\n",
        "model.add(Conv2D(128,(3,3),activation='relu'))\n",
        "model.add(Conv2D(128,(3,3),activation='relu'))\n",
        "model.add(MaxPool2D(2,2))\n",
        "model.add(Dropout(0.3))\n",
        "\n",
        "\n",
        "model.add(Flatten())\n",
        "model.add(Dense(512,activation='relu'))\n",
        "model.add(Dense(4,activation='softmax'))\n",
        "\n",
        "\n",
        "\n"
      ],
      "metadata": {
        "colab": {
          "base_uri": "https://localhost:8080/"
        },
        "id": "4L_a2szrGHqX",
        "outputId": "5258c98f-2ef2-4cbd-d49c-8b6035aa4579"
      },
      "execution_count": 13,
      "outputs": [
        {
          "output_type": "stream",
          "name": "stderr",
          "text": [
            "/usr/local/lib/python3.10/dist-packages/keras/src/layers/convolutional/base_conv.py:107: UserWarning: Do not pass an `input_shape`/`input_dim` argument to a layer. When using Sequential models, prefer using an `Input(shape)` object as the first layer in the model instead.\n",
            "  super().__init__(activity_regularizer=activity_regularizer, **kwargs)\n"
          ]
        }
      ]
    },
    {
      "cell_type": "code",
      "source": [
        "model.compile(loss='categorical_crossentropy',optimizer='Adam',metrics=['accuracy'])"
      ],
      "metadata": {
        "id": "LpBJQwfPGHn_"
      },
      "execution_count": 14,
      "outputs": []
    },
    {
      "cell_type": "code",
      "source": [
        "history = model.fit(xtrain,ytrain,epochs=25,validation_split=0.1)"
      ],
      "metadata": {
        "colab": {
          "base_uri": "https://localhost:8080/"
        },
        "id": "E5pjq9vPGHlP",
        "outputId": "5283a67f-706c-48b5-ea0d-c4c564028fe3"
      },
      "execution_count": 15,
      "outputs": [
        {
          "output_type": "stream",
          "name": "stdout",
          "text": [
            "Epoch 1/25\n",
            "\u001b[1m81/81\u001b[0m \u001b[32m━━━━━━━━━━━━━━━━━━━━\u001b[0m\u001b[37m\u001b[0m \u001b[1m34s\u001b[0m 249ms/step - accuracy: 0.3791 - loss: 35.7818 - val_accuracy: 0.8188 - val_loss: 0.8486\n",
            "Epoch 2/25\n",
            "\u001b[1m81/81\u001b[0m \u001b[32m━━━━━━━━━━━━━━━━━━━━\u001b[0m\u001b[37m\u001b[0m \u001b[1m14s\u001b[0m 71ms/step - accuracy: 0.5859 - loss: 0.9225 - val_accuracy: 0.9338 - val_loss: 0.5795\n",
            "Epoch 3/25\n",
            "\u001b[1m81/81\u001b[0m \u001b[32m━━━━━━━━━━━━━━━━━━━━\u001b[0m\u001b[37m\u001b[0m \u001b[1m5s\u001b[0m 66ms/step - accuracy: 0.6546 - loss: 0.8081 - val_accuracy: 0.9756 - val_loss: 0.1743\n",
            "Epoch 4/25\n",
            "\u001b[1m81/81\u001b[0m \u001b[32m━━━━━━━━━━━━━━━━━━━━\u001b[0m\u001b[37m\u001b[0m \u001b[1m5s\u001b[0m 68ms/step - accuracy: 0.7201 - loss: 0.6768 - val_accuracy: 0.9791 - val_loss: 0.1828\n",
            "Epoch 5/25\n",
            "\u001b[1m81/81\u001b[0m \u001b[32m━━━━━━━━━━━━━━━━━━━━\u001b[0m\u001b[37m\u001b[0m \u001b[1m5s\u001b[0m 67ms/step - accuracy: 0.7818 - loss: 0.5385 - val_accuracy: 0.9094 - val_loss: 0.3341\n",
            "Epoch 6/25\n",
            "\u001b[1m81/81\u001b[0m \u001b[32m━━━━━━━━━━━━━━━━━━━━\u001b[0m\u001b[37m\u001b[0m \u001b[1m10s\u001b[0m 69ms/step - accuracy: 0.8210 - loss: 0.4358 - val_accuracy: 0.9652 - val_loss: 0.1826\n",
            "Epoch 7/25\n",
            "\u001b[1m81/81\u001b[0m \u001b[32m━━━━━━━━━━━━━━━━━━━━\u001b[0m\u001b[37m\u001b[0m \u001b[1m5s\u001b[0m 68ms/step - accuracy: 0.8684 - loss: 0.3656 - val_accuracy: 0.9756 - val_loss: 0.1261\n",
            "Epoch 8/25\n",
            "\u001b[1m81/81\u001b[0m \u001b[32m━━━━━━━━━━━━━━━━━━━━\u001b[0m\u001b[37m\u001b[0m \u001b[1m10s\u001b[0m 69ms/step - accuracy: 0.8856 - loss: 0.2907 - val_accuracy: 0.9686 - val_loss: 0.1458\n",
            "Epoch 9/25\n",
            "\u001b[1m81/81\u001b[0m \u001b[32m━━━━━━━━━━━━━━━━━━━━\u001b[0m\u001b[37m\u001b[0m \u001b[1m6s\u001b[0m 69ms/step - accuracy: 0.8979 - loss: 0.2721 - val_accuracy: 0.9686 - val_loss: 0.1563\n",
            "Epoch 10/25\n",
            "\u001b[1m81/81\u001b[0m \u001b[32m━━━━━━━━━━━━━━━━━━━━\u001b[0m\u001b[37m\u001b[0m \u001b[1m10s\u001b[0m 70ms/step - accuracy: 0.9149 - loss: 0.2185 - val_accuracy: 0.9756 - val_loss: 0.1556\n",
            "Epoch 11/25\n",
            "\u001b[1m81/81\u001b[0m \u001b[32m━━━━━━━━━━━━━━━━━━━━\u001b[0m\u001b[37m\u001b[0m \u001b[1m6s\u001b[0m 69ms/step - accuracy: 0.9303 - loss: 0.2057 - val_accuracy: 0.9582 - val_loss: 0.1495\n",
            "Epoch 12/25\n",
            "\u001b[1m81/81\u001b[0m \u001b[32m━━━━━━━━━━━━━━━━━━━━\u001b[0m\u001b[37m\u001b[0m \u001b[1m10s\u001b[0m 70ms/step - accuracy: 0.9398 - loss: 0.1641 - val_accuracy: 0.9756 - val_loss: 0.1234\n",
            "Epoch 13/25\n",
            "\u001b[1m81/81\u001b[0m \u001b[32m━━━━━━━━━━━━━━━━━━━━\u001b[0m\u001b[37m\u001b[0m \u001b[1m6s\u001b[0m 69ms/step - accuracy: 0.9488 - loss: 0.1363 - val_accuracy: 0.9686 - val_loss: 0.1304\n",
            "Epoch 14/25\n",
            "\u001b[1m81/81\u001b[0m \u001b[32m━━━━━━━━━━━━━━━━━━━━\u001b[0m\u001b[37m\u001b[0m \u001b[1m10s\u001b[0m 70ms/step - accuracy: 0.9427 - loss: 0.1554 - val_accuracy: 0.9686 - val_loss: 0.1595\n",
            "Epoch 15/25\n",
            "\u001b[1m81/81\u001b[0m \u001b[32m━━━━━━━━━━━━━━━━━━━━\u001b[0m\u001b[37m\u001b[0m \u001b[1m6s\u001b[0m 72ms/step - accuracy: 0.9466 - loss: 0.1524 - val_accuracy: 0.9791 - val_loss: 0.1403\n",
            "Epoch 16/25\n",
            "\u001b[1m81/81\u001b[0m \u001b[32m━━━━━━━━━━━━━━━━━━━━\u001b[0m\u001b[37m\u001b[0m \u001b[1m6s\u001b[0m 71ms/step - accuracy: 0.9637 - loss: 0.0921 - val_accuracy: 0.9617 - val_loss: 0.2287\n",
            "Epoch 17/25\n",
            "\u001b[1m81/81\u001b[0m \u001b[32m━━━━━━━━━━━━━━━━━━━━\u001b[0m\u001b[37m\u001b[0m \u001b[1m10s\u001b[0m 72ms/step - accuracy: 0.9587 - loss: 0.0936 - val_accuracy: 0.9652 - val_loss: 0.2402\n",
            "Epoch 18/25\n",
            "\u001b[1m81/81\u001b[0m \u001b[32m━━━━━━━━━━━━━━━━━━━━\u001b[0m\u001b[37m\u001b[0m \u001b[1m10s\u001b[0m 71ms/step - accuracy: 0.9680 - loss: 0.0959 - val_accuracy: 0.9477 - val_loss: 0.2521\n",
            "Epoch 19/25\n",
            "\u001b[1m81/81\u001b[0m \u001b[32m━━━━━━━━━━━━━━━━━━━━\u001b[0m\u001b[37m\u001b[0m \u001b[1m6s\u001b[0m 71ms/step - accuracy: 0.9743 - loss: 0.0831 - val_accuracy: 0.9826 - val_loss: 0.1093\n",
            "Epoch 20/25\n",
            "\u001b[1m81/81\u001b[0m \u001b[32m━━━━━━━━━━━━━━━━━━━━\u001b[0m\u001b[37m\u001b[0m \u001b[1m10s\u001b[0m 74ms/step - accuracy: 0.9699 - loss: 0.0838 - val_accuracy: 0.9756 - val_loss: 0.1239\n",
            "Epoch 21/25\n",
            "\u001b[1m81/81\u001b[0m \u001b[32m━━━━━━━━━━━━━━━━━━━━\u001b[0m\u001b[37m\u001b[0m \u001b[1m11s\u001b[0m 85ms/step - accuracy: 0.9597 - loss: 0.1090 - val_accuracy: 0.9791 - val_loss: 0.1294\n",
            "Epoch 22/25\n",
            "\u001b[1m81/81\u001b[0m \u001b[32m━━━━━━━━━━━━━━━━━━━━\u001b[0m\u001b[37m\u001b[0m \u001b[1m9s\u001b[0m 74ms/step - accuracy: 0.9710 - loss: 0.0731 - val_accuracy: 0.9791 - val_loss: 0.1625\n",
            "Epoch 23/25\n",
            "\u001b[1m81/81\u001b[0m \u001b[32m━━━━━━━━━━━━━━━━━━━━\u001b[0m\u001b[37m\u001b[0m \u001b[1m10s\u001b[0m 71ms/step - accuracy: 0.9763 - loss: 0.0673 - val_accuracy: 0.9791 - val_loss: 0.1724\n",
            "Epoch 24/25\n",
            "\u001b[1m81/81\u001b[0m \u001b[32m━━━━━━━━━━━━━━━━━━━━\u001b[0m\u001b[37m\u001b[0m \u001b[1m10s\u001b[0m 72ms/step - accuracy: 0.9712 - loss: 0.0901 - val_accuracy: 0.9826 - val_loss: 0.1258\n",
            "Epoch 25/25\n",
            "\u001b[1m81/81\u001b[0m \u001b[32m━━━━━━━━━━━━━━━━━━━━\u001b[0m\u001b[37m\u001b[0m \u001b[1m6s\u001b[0m 72ms/step - accuracy: 0.9740 - loss: 0.0695 - val_accuracy: 0.9686 - val_loss: 0.1865\n"
          ]
        }
      ]
    },
    {
      "cell_type": "code",
      "source": [
        "acc = history.history['accuracy']\n",
        "val_acc = history.history['val_accuracy']\n",
        "\n",
        "\n",
        "epochs = range(len(acc))\n",
        "\n",
        "\n",
        "fig = plt.figure(figsize=(14,7))\n",
        "\n",
        "\n",
        "plt.plot(epochs,acc,'r',label=\"Training Accuracy\")\n",
        "plt.plot(epochs,val_acc,'b',label=\"Validation Accuracy\")\n",
        "plt.legend(loc='upper left')\n",
        "plt.show()"
      ],
      "metadata": {
        "colab": {
          "base_uri": "https://localhost:8080/",
          "height": 599
        },
        "id": "swAbd2YPIT7M",
        "outputId": "880abe63-eb48-4db9-f580-b5b7209e8452"
      },
      "execution_count": 16,
      "outputs": [
        {
          "output_type": "display_data",
          "data": {
            "text/plain": [
              "<Figure size 1400x700 with 1 Axes>"
            ],
            "image/png": "[encoded data removed]"
          },
          "metadata": {}
        }
      ]
    }
  ]
}